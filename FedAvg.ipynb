{
  "cells": [
    {
      "cell_type": "markdown",
      "metadata": {
        "colab_type": "text",
        "id": "view-in-github"
      },
      "source": [
        "<a href=\"https://colab.research.google.com/github/eshikapathak/Personalized-Federated-Learning/blob/main/Basic/FedAvg_and_FedSGD.ipynb\" target=\"_parent\"><img src=\"https://colab.research.google.com/assets/colab-badge.svg\" alt=\"Open In Colab\"/></a>"
      ]
    },
    {
      "cell_type": "markdown",
      "metadata": {
        "id": "d61vSHCXRgJr"
      },
      "source": [
        "## FedAvg"
      ]
    },
    {
      "cell_type": "code",
      "execution_count": 118,
      "metadata": {},
      "outputs": [],
      "source": [
        "import torch\n",
        "import torch.nn as nn\n",
        "import torch.nn.functional as F\n",
        "from torch.utils.data import DataLoader, Subset, TensorDataset\n",
        "from torchvision import datasets, transforms\n",
        "import matplotlib.pyplot as plt\n",
        "import numpy as np\n",
        "import random\n",
        "import copy"
      ]
    },
    {
      "cell_type": "code",
      "execution_count": 119,
      "metadata": {},
      "outputs": [],
      "source": [
        "np.random.seed(0)\n",
        "torch.manual_seed(0)\n",
        "random.seed(0)"
      ]
    },
    {
      "cell_type": "code",
      "execution_count": 120,
      "metadata": {},
      "outputs": [],
      "source": [
        "def iid_loader(dataset, num_clients=100, batch_size=10):\n",
        "    total = len(dataset)\n",
        "    indices = torch.randperm(total).tolist()\n",
        "    data_per_client = total // num_clients\n",
        "    client_indices = [indices[i * data_per_client:(i + 1) * data_per_client] for i in range(num_clients)]\n",
        "\n",
        "    client_loaders = [\n",
        "        DataLoader(Subset(dataset, indices), batch_size=batch_size, shuffle=True)\n",
        "        for indices in client_indices\n",
        "    ]\n",
        "    return client_loaders"
      ]
    },
    {
      "cell_type": "code",
      "execution_count": 137,
      "metadata": {},
      "outputs": [],
      "source": [
        "def non_iid_loader(dataset, num_clients=100, batch_size=10, classes_per_user=2, high_prob=0.6, low_prob=0.4):\n",
        "    # Helper function to get number of classes and labels\n",
        "    def get_num_classes_samples(data):\n",
        "        if isinstance(data.targets, list):\n",
        "            labels = np.array(data.targets)\n",
        "        else:\n",
        "            labels = data.targets.numpy()\n",
        "        classes, num_samples = np.unique(labels, return_counts=True)\n",
        "        return len(classes), num_samples, labels\n",
        "\n",
        "    # Helper function to generate data split based on class partitions\n",
        "    def gen_data_split(num_samples, labels, class_partitions):\n",
        "        data_class_idx = {i: np.where(labels == i)[0] for i in range(num_classes)}\n",
        "        for idx_list in data_class_idx.values():\n",
        "            random.shuffle(idx_list)\n",
        "\n",
        "        user_data_idx = [[] for _ in range(num_clients)]\n",
        "        for usr_i in range(num_clients):\n",
        "            for c, p in zip(class_partitions['class'][usr_i], class_partitions['prob'][usr_i]):\n",
        "                end_idx = int(p * num_samples[c])\n",
        "                user_data_idx[usr_i].extend(data_class_idx[c][:end_idx])\n",
        "                data_class_idx[c] = data_class_idx[c][end_idx:]\n",
        "        return user_data_idx\n",
        "\n",
        "    num_classes, num_samples, labels = get_num_classes_samples(dataset)\n",
        "    count_per_class = (classes_per_user * num_clients) // num_classes\n",
        "\n",
        "    # Generating class partitions\n",
        "    class_dict = {i: {'prob': np.random.uniform(low_prob, high_prob, size=count_per_class).tolist()} for i in range(num_classes)}\n",
        "    for probs in class_dict.values():\n",
        "        total = sum(probs['prob'])\n",
        "        probs['prob'] = [p / total for p in probs['prob']]\n",
        "\n",
        "    # Assign classes and probabilities to each client\n",
        "    class_partitions = {'class': [], 'prob': []}\n",
        "    available_classes = list(range(num_classes)) * count_per_class\n",
        "    random.shuffle(available_classes)\n",
        "    for _ in range(num_clients):\n",
        "        client_classes = random.sample(available_classes, classes_per_user)\n",
        "        for c in client_classes:\n",
        "            available_classes.remove(c)\n",
        "        client_probs = [class_dict[c]['prob'].pop() for c in client_classes]\n",
        "        class_partitions['class'].append(client_classes)\n",
        "        class_partitions['prob'].append(client_probs)\n",
        "\n",
        "    # Generating data splits\n",
        "    user_data_idx = gen_data_split(num_samples, labels, class_partitions)\n",
        "\n",
        "    # Creating data loaders\n",
        "    client_data_loaders = []\n",
        "    for indices in user_data_idx:\n",
        "        subset = Subset(dataset, indices)\n",
        "        loader = DataLoader(subset, batch_size=batch_size, shuffle=True)\n",
        "        client_data_loaders.append(loader)\n",
        "\n",
        "    return client_data_loaders"
      ]
    },
    {
      "cell_type": "code",
      "execution_count": 134,
      "metadata": {},
      "outputs": [
        {
          "name": "stdout",
          "output_type": "stream",
          "text": [
            "Files already downloaded and verified\n",
            "Files already downloaded and verified\n"
          ]
        }
      ],
      "source": [
        "batch_size = 64\n",
        "num_clients = 100\n",
        "num_classes = 10\n",
        "\n",
        "device = torch.device(\"cuda\" if torch.cuda.is_available() else \"cpu\")\n",
        "\n",
        "# Data loading and transformation\n",
        "transform = transforms.Compose([\n",
        "    transforms.ToTensor(), \n",
        "    transforms.Normalize((0.4914, 0.4822, 0.4465), (0.2023, 0.1994, 0.2010))\n",
        "])\n",
        "train_data = datasets.CIFAR10(root='./data', train=True, download=True, transform=transform)\n",
        "test_data = datasets.CIFAR10(root='./data', train=False, download=True, transform=transform)\n",
        "\n",
        "iid_client_train_loader = iid_loader(train_data, num_clients, batch_size)\n",
        "non_iid_client_train_loader = non_iid_loader(train_data, num_clients, batch_size, classes_per_user=2)\n",
        "test_loader = DataLoader(test_data, batch_size=batch_size, shuffle=False)"
      ]
    },
    {
      "cell_type": "markdown",
      "metadata": {},
      "source": [
        "### Models"
      ]
    },
    {
      "cell_type": "code",
      "execution_count": 124,
      "metadata": {},
      "outputs": [],
      "source": [
        "class SimpleMLP(nn.Module):\n",
        "    def __init__(self):\n",
        "        super(SimpleMLP, self).__init__()\n",
        "        self.nn = nn.Sequential(\n",
        "            nn.Linear(28*28, 200),\n",
        "            nn.ReLU(),\n",
        "            nn.Linear(200, 200),\n",
        "            nn.ReLU(),\n",
        "            nn.Linear(200, 10),\n",
        "        )\n",
        "\n",
        "    def forward(self, x):\n",
        "        x = x.flatten(1)\n",
        "        x = self.nn(x)\n",
        "        return x\n",
        "\n",
        "class CNN(nn.Module):\n",
        "    def __init__(self, in_channels=3, n_kernels=16, out_dim=10):\n",
        "        super(CNN, self).__init__()\n",
        "\n",
        "        self.conv1 = nn.Conv2d(in_channels, n_kernels, 5)\n",
        "        self.pool = nn.MaxPool2d(2, 2)\n",
        "        self.conv2 = nn.Conv2d(n_kernels, 2 * n_kernels, 5)\n",
        "        self.fc1 = nn.Linear(2 * n_kernels * 5 * 5, 120)\n",
        "        self.fc2 = nn.Linear(120, 84)\n",
        "        self.fc3 = nn.Linear(84, out_dim)\n",
        "\n",
        "    def forward(self, x):\n",
        "        x = self.pool(F.relu(self.conv1(x)))\n",
        "        x = self.pool(F.relu(self.conv2(x)))\n",
        "        x = x.view(x.shape[0], -1)\n",
        "        x = F.relu(self.fc1(x))\n",
        "        x = F.relu(self.fc2(x))\n",
        "        x = self.fc3(x)\n",
        "        return x"
      ]
    },
    {
      "cell_type": "code",
      "execution_count": 77,
      "metadata": {},
      "outputs": [
        {
          "name": "stdout",
          "output_type": "stream",
          "text": [
            "----------------------------------------------------------------\n",
            "        Layer (type)               Output Shape         Param #\n",
            "================================================================\n",
            "            Linear-1                  [-1, 200]         157,000\n",
            "              ReLU-2                  [-1, 200]               0\n",
            "            Linear-3                  [-1, 200]          40,200\n",
            "              ReLU-4                  [-1, 200]               0\n",
            "            Linear-5                   [-1, 10]           2,010\n",
            "================================================================\n",
            "Total params: 199,210\n",
            "Trainable params: 199,210\n",
            "Non-trainable params: 0\n",
            "----------------------------------------------------------------\n",
            "Input size (MB): 0.00\n",
            "Forward/backward pass size (MB): 0.01\n",
            "Params size (MB): 0.76\n",
            "Estimated Total Size (MB): 0.77\n",
            "----------------------------------------------------------------\n"
          ]
        }
      ],
      "source": [
        "from torchsummary import summary\n",
        "mlp = SimpleMLP().to(device)\n",
        "summary(mlp,(1,28,28))"
      ]
    },
    {
      "cell_type": "code",
      "execution_count": 125,
      "metadata": {},
      "outputs": [
        {
          "name": "stdout",
          "output_type": "stream",
          "text": [
            "----------------------------------------------------------------\n",
            "        Layer (type)               Output Shape         Param #\n",
            "================================================================\n",
            "            Conv2d-1           [-1, 16, 28, 28]           1,216\n",
            "         MaxPool2d-2           [-1, 16, 14, 14]               0\n",
            "            Conv2d-3           [-1, 32, 10, 10]          12,832\n",
            "         MaxPool2d-4             [-1, 32, 5, 5]               0\n",
            "            Linear-5                  [-1, 120]          96,120\n",
            "            Linear-6                   [-1, 84]          10,164\n",
            "            Linear-7                   [-1, 10]             850\n",
            "================================================================\n",
            "Total params: 121,182\n",
            "Trainable params: 121,182\n",
            "Non-trainable params: 0\n",
            "----------------------------------------------------------------\n",
            "Input size (MB): 0.01\n",
            "Forward/backward pass size (MB): 0.15\n",
            "Params size (MB): 0.46\n",
            "Estimated Total Size (MB): 0.63\n",
            "----------------------------------------------------------------\n"
          ]
        }
      ],
      "source": [
        "cnn = CNN().to(device)\n",
        "summary(cnn,(3,32,32))"
      ]
    },
    {
      "cell_type": "code",
      "execution_count": 79,
      "metadata": {},
      "outputs": [],
      "source": [
        "criterion = nn.CrossEntropyLoss()"
      ]
    },
    {
      "cell_type": "code",
      "execution_count": 81,
      "metadata": {},
      "outputs": [],
      "source": [
        "def train(model, client_train_loader, epochs, optimizer):\n",
        "    model.train()\n",
        "    for _ in range(epochs):\n",
        "        for _, (data, target) in enumerate(client_train_loader):\n",
        "            data, target = data.to(device), target.to(device)\n",
        "            optimizer.zero_grad()\n",
        "            output = model(data)\n",
        "            loss = criterion(output, target)\n",
        "            loss.backward()\n",
        "            optimizer.step()\n",
        "    return model\n",
        "\n",
        "def evaluate(model):\n",
        "    model = model.to(device)\n",
        "    model.eval()\n",
        "    correct = 0\n",
        "    total = 0\n",
        "    with torch.no_grad():\n",
        "        for data, target in test_loader:\n",
        "            data, target = data.to(device), target.to(device)\n",
        "            output = model(data)\n",
        "            pred = output.argmax( dim=1)\n",
        "            correct += (pred == target).sum().item()\n",
        "            total += target.size(0)\n",
        "    acc = correct / total\n",
        "    return acc"
      ]
    },
    {
      "cell_type": "code",
      "execution_count": 82,
      "metadata": {},
      "outputs": [],
      "source": [
        "def running_model_average(current, next, scale):\n",
        "    if current == None:\n",
        "        current = next\n",
        "        for key in current:\n",
        "            current[key] = current[key]*scale\n",
        "    else:\n",
        "        for key in current:\n",
        "            current[key] = current[key] + next[key]*scale\n",
        "    return current"
      ]
    },
    {
      "cell_type": "code",
      "execution_count": 92,
      "metadata": {},
      "outputs": [],
      "source": [
        "def experiments(global_model, client_frac, epochs, lr, train_loader, max_rounds):\n",
        "    accuracy = []\n",
        "    for t in range(max_rounds):\n",
        "        print(\"starting round {}\".format(t))\n",
        "\n",
        "        clients = np.random.choice(np.arange(num_clients), int(num_clients*client_frac), replace = False)\n",
        "        print(\"clients: \", clients)\n",
        "\n",
        "        global_model.eval()\n",
        "        global_model = global_model.to(device)\n",
        "        running_avg = None\n",
        "        for i, c in enumerate(clients):\n",
        "            print(\"round {}, starting client {}/{}, id: {}\".format(t, i+1,num_clients*client_frac, c))\n",
        "            local_model = copy.deepcopy(global_model).to(device)\n",
        "            optimizer = torch.optim.SGD(local_model.parameters(), lr = lr)\n",
        "            local_model = train(local_model, train_loader[c], epochs=epochs, optimizer=optimizer)\n",
        "            running_avg = running_model_average(running_avg, local_model.state_dict(), 1/(num_clients*client_frac))\n",
        "        \n",
        "        global_model.load_state_dict(running_avg)\n",
        "        val_acc = evaluate(global_model)\n",
        "        print(\"round {}, validation acc: {}\".format(t, val_acc))\n",
        "        accuracy.append(val_acc)\n",
        "\n",
        "    return np.array(accuracy)"
      ]
    },
    {
      "cell_type": "code",
      "execution_count": null,
      "metadata": {},
      "outputs": [],
      "source": [
        "cnn = CNN()\n",
        "cnn_iid_10 = copy.deepcopy(cnn)\n",
        "acc_cnn_iid_10_1_1 = experiments(cnn_iid_10, client_frac=0.1, epochs=5, lr=0.05, train_loader=non_iid_client_train_loader, max_rounds=1000)\n",
        "print(acc_cnn_iid_10_1_1)"
      ]
    },
    {
      "cell_type": "code",
      "execution_count": null,
      "metadata": {},
      "outputs": [],
      "source": [
        "mlp = SimpleMLP()\n",
        "mlp_iid_10 = copy.deepcopy(mlp)\n",
        "acc_mlp_iid_10 = experiments(mlp_iid_10, client_frac=0.1, epochs=1, lr=0.05, train_loader=iid_client_train_loader, max_rounds=100)\n",
        "print(acc_mlp_iid_10)"
      ]
    },
    {
      "cell_type": "code",
      "execution_count": null,
      "metadata": {},
      "outputs": [],
      "source": [
        "mlp = SimpleMLP()\n",
        "mlp_iid_20 = copy.deepcopy(mlp)\n",
        "acc_mlp_iid_20 = experiments(mlp_iid_20, client_frac=0.2, epochs=1, lr=0.05, train_loader=iid_client_train_loader, max_rounds=100)\n",
        "print(acc_mlp_iid_20)"
      ]
    },
    {
      "cell_type": "code",
      "execution_count": null,
      "metadata": {},
      "outputs": [],
      "source": [
        "mlp = SimpleMLP()\n",
        "mlp_iid_50 = copy.deepcopy(mlp)\n",
        "acc_mlp_iid_50 = experiments(mlp_iid_50, client_frac=0.5, epochs=1, lr=0.05, train_loader=iid_client_train_loader, max_rounds=100)\n",
        "print(acc_mlp_iid_50)"
      ]
    },
    {
      "cell_type": "code",
      "execution_count": null,
      "metadata": {},
      "outputs": [],
      "source": [
        "mlp = SimpleMLP()\n",
        "mlp_iid_100 = copy.deepcopy(mlp)\n",
        "acc_mlp_iid_100 = experiments(mlp_iid_100, client_frac=1, epochs=1, lr=0.05, train_loader=iid_client_train_loader, max_rounds=100)\n",
        "print(acc_mlp_iid_100)"
      ]
    },
    {
      "cell_type": "code",
      "execution_count": 97,
      "metadata": {},
      "outputs": [
        {
          "data": {
            "image/png": "[encoded data removed]",
            "text/plain": [
              "<Figure size 800x600 with 1 Axes>"
            ]
          },
          "metadata": {},
          "output_type": "display_data"
        }
      ],
      "source": [
        "x = np.arange(1,101)\n",
        "plt.figure(figsize=(8,6))\n",
        "\n",
        "plt.title(\"FedAvg test accuracy after $t$ rounds on iid MNIST\")\n",
        "\n",
        "plt.xlabel(\"Communication rounds $t$\")\n",
        "plt.ylabel(\"Test accuracy\")\n",
        "plt.axis([0, 100, 0.9, 1])\n",
        "\n",
        "plt.axhline(y=0.97, color='r', linestyle='dashed')\n",
        "plt.axhline(y=0.99, color='b', linestyle='dashed')\n",
        "\n",
        "plt.plot(x, acc_mlp_iid_10, label='2NN, $m=10$, $E=1$')\n",
        "plt.plot(x, acc_mlp_iid_20, label='2NN, $m=20$, $E=1$')\n",
        "plt.plot(x, acc_mlp_iid_50, label='2NN, $m=50$, $E=1$')\n",
        "plt.plot(x, acc_mlp_iid_100, label='2NN, $m=100$, $E=1$')\n",
        "\n",
        "plt.legend()\n",
        "plt.show()"
      ]
    },
    {
      "cell_type": "code",
      "execution_count": null,
      "metadata": {},
      "outputs": [],
      "source": [
        "cnn = CNN()\n",
        "cnn_iid_10 = copy.deepcopy(cnn)\n",
        "acc_cnn_iid_10 = experiments(cnn_iid_10, client_frac=0.1, epochs=5, lr=0.05, train_loader=iid_client_train_loader, max_rounds=100)\n",
        "print(acc_cnn_iid_10)"
      ]
    },
    {
      "cell_type": "code",
      "execution_count": null,
      "metadata": {},
      "outputs": [],
      "source": [
        "cnn = CNN()\n",
        "cnn_iid_20 = copy.deepcopy(cnn)\n",
        "acc_cnn_iid_20 = experiments(cnn_iid_20, client_frac=0.2, epochs=5, lr=0.05, train_loader=iid_client_train_loader, max_rounds=100)\n",
        "print(acc_cnn_iid_20)"
      ]
    },
    {
      "cell_type": "code",
      "execution_count": null,
      "metadata": {},
      "outputs": [],
      "source": [
        "cnn = CNN()\n",
        "cnn_iid_50 = copy.deepcopy(cnn)\n",
        "acc_cnn_iid_50 = experiments(cnn_iid_50, client_frac=0.5, epochs=5, lr=0.05, train_loader=iid_client_train_loader, max_rounds=100)\n",
        "print(acc_cnn_iid_50)"
      ]
    },
    {
      "cell_type": "code",
      "execution_count": null,
      "metadata": {},
      "outputs": [],
      "source": [
        "x = np.arange(1,101)\n",
        "plt.figure(figsize=(8,6))\n",
        "\n",
        "plt.title(\"FedAvg test accuracy after $t$ rounds on iid MNIST\")\n",
        "\n",
        "plt.xlabel(\"Communication rounds $t$\")\n",
        "plt.ylabel(\"Test accuracy\")\n",
        "plt.axis([0, 100, 0.9, 1])\n",
        "\n",
        "plt.axhline(y=0.97, color='r', linestyle='dashed')\n",
        "plt.axhline(y=0.99, color='b', linestyle='dashed')\n",
        "\n",
        "plt.plot(x, acc_mlp_iid_10, label='2NN, $m=10$, $E=1$')\n",
        "plt.plot(x, acc_mlp_iid_20, label='2NN, $m=20$, $E=1$')\n",
        "plt.plot(x, acc_mlp_iid_50, label='2NN, $m=50$, $E=1$')\n",
        "plt.plot(x, acc_mlp_iid_100, label='2NN, $m=100$, $E=1$')\n",
        "\n",
        "plt.plot(x, acc_cnn_iid_10, label='CNN, $m=10$, $E=5$')\n",
        "plt.plot(x, acc_cnn_iid_20, label='CNN, $m=20$, $E=5$')\n",
        "plt.plot(x, acc_cnn_iid_50, label='CNN, $m=50$, $E=5$')\n",
        "plt.plot(x, acc_cnn_iid_100, label='CNN, $m=100$, $E=5$')\n",
        "\n",
        "plt.legend()\n",
        "plt.show()"
      ]
    }
  ],
  "metadata": {
    "accelerator": "GPU",
    "colab": {
      "authorship_tag": "ABX9TyP9U/B3iG0PiNrrVakxJ0QW",
      "collapsed_sections": [
        "d61vSHCXRgJr",
        "mdboRG01Rjzw"
      ],
      "gpuType": "T4",
      "include_colab_link": true,
      "provenance": []
    },
    "kernelspec": {
      "display_name": "Python 3",
      "name": "python3"
    },
    "language_info": {
      "codemirror_mode": {
        "name": "ipython",
        "version": 3
      },
      "file_extension": ".py",
      "mimetype": "text/x-python",
      "name": "python",
      "nbconvert_exporter": "python",
      "pygments_lexer": "ipython3",
      "version": "3.12.1"
    }
  },
  "nbformat": 4,
  "nbformat_minor": 0
}
